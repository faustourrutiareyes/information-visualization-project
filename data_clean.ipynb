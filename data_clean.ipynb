{
 "cells": [
  {
   "cell_type": "code",
   "execution_count": 1,
   "metadata": {},
   "outputs": [],
   "source": [
    "import pandas as pd\n",
    "import matplotlib.pyplot as plt\n",
    "import numpy as np\n",
    "import seaborn as sns"
   ]
  },
  {
   "cell_type": "code",
   "execution_count": 2,
   "metadata": {},
   "outputs": [],
   "source": [
    "df = pd.read_csv('datafiles\\\\111_individual\\\\data111.csv')"
   ]
  },
  {
   "cell_type": "code",
   "execution_count": 3,
   "metadata": {},
   "outputs": [],
   "source": [
    "column_names_replacement = {\n",
    "    \"v1\": \"city_county\",\n",
    "    \"v2\": \"zipcode\",\n",
    "    \"v3\": \"year_of_birth\",\n",
    "    \"v4\": \"age_range\",\n",
    "    \"v5\": \"used_info_devices_past_yesno\",\n",
    "    \"v6\": \"time_since_last_use\",\n",
    "    \"v7\": \"3months_use_per_week\",\n",
    "    \"v8\": \"email_outside_work_yesno\",\n",
    "    \"v9\": \"3months_product_service_lookup\",\n",
    "    \"v10\": \"purchased_online_yesno\",\n",
    "    \"v11\": \"sold_online_yesno\",\n",
    "    \"v12\": \"download_software_nogames\",\n",
    "    \"v13\": \"checked_wiki\",\n",
    "    \"v14\": \"health_info_lookup\",\n",
    "    \"v15\": \"online_banking\",\n",
    "    \"v16\": \"mobile_payment\",\n",
    "    \"v17\": \"chat_online\",\n",
    "    \"v18\": \"download_news\",\n",
    "    \"v19\": \"online_courses\",\n",
    "    \"v20\": \"online_entertainment\",\n",
    "    \"v21\": \"used_cloud_storage\",\n",
    "    \"v22\": \"check_job_info\",\n",
    "    \"v23\": \"remote_work\",\n",
    "    \"v24\": \"photo_video_editing_3months\",\n",
    "    \"v25\": \"used_social_media\",\n",
    "    \"v26\": \"post_content_online\",\n",
    "    \"v27\": \"expressed_politics_online\",\n",
    "    \"v28\": \"online_appointment\",\n",
    "    \"v29\": \"created_projects_with_devices\",\n",
    "    \"v30\": \"government_services_list\",\n",
    "    \"v31\": \"notusing_government_services_list_reason\",\n",
    "    \"v32\": \"body_damage_from_device_use\",\n",
    "    \"v33\": \"life_satisfaction_0to10\",\n",
    "    \"v34\": \"keep_up_with_tech_0to10\",\n",
    "    \"v35\": \"during_pandemic_use_list\",\n",
    "    \"v36\": \"common_use_since_pandemic\",\n",
    "    \"v37\": \"pandemic_onsite_or_online_vaccine\",\n",
    "    \"v38\": \"cont_37_vaccine_responsible\",\n",
    "    \"v39\": \"disabled_yesno\",\n",
    "    'v40':'education_level',\n",
    "    'v41':'employment_industry',\n",
    "    'v42':'employment_position',\n",
    "    'v43':'work_need_internet_percentage',\n",
    "    'v44':'replaced_by_AI_yesno',\n",
    "    'v45':'receive_work_messages_after_hours',\n",
    "    'v46':'ethnic_background',\n",
    "    \"v47\": \"gender\",\n",
    "}\n",
    "\n",
    "df = df.rename(columns=column_names_replacement)"
   ]
  },
  {
   "cell_type": "code",
   "execution_count": 4,
   "metadata": {},
   "outputs": [],
   "source": [
    "df.to_csv('data111_renamed_cols.csv')"
   ]
  }
 ],
 "metadata": {
  "kernelspec": {
   "display_name": ".venv",
   "language": "python",
   "name": "python3"
  },
  "language_info": {
   "codemirror_mode": {
    "name": "ipython",
    "version": 3
   },
   "file_extension": ".py",
   "mimetype": "text/x-python",
   "name": "python",
   "nbconvert_exporter": "python",
   "pygments_lexer": "ipython3",
   "version": "3.12.2"
  }
 },
 "nbformat": 4,
 "nbformat_minor": 2
}
